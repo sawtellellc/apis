{
 "cells": [
  {
   "cell_type": "markdown",
   "metadata": {},
   "source": [
    "## Deploy  `ct-scan-body-part-detector` Model Package from AWS Marketplace \n",
    "\n",
    "\n",
    "This sample notebook shows you how to deploy [`ct-scan-body-part-detector`](http://aws.com) using Amazon SageMaker.\n",
    "\n",
    "#### Pre-requisites:\n",
    "\n",
    "1. **Note**: This notebook contains elements which render correctly in Jupyter interface. Open this notebook from an Amazon SageMaker Notebook Instance or Amazon SageMaker Studio.\n",
    "\n",
    "1. Ensure that IAM role used has **AmazonSageMakerFullAccess**\n",
    "\n",
    "1. To deploy this ML model successfully, ensure that:\n",
    "    1. Either your IAM role has these three permissions and you have authority to make AWS Marketplace subscriptions in the AWS account used: \n",
    "        1. **aws-marketplace:ViewSubscriptions**\n",
    "        1. **aws-marketplace:Unsubscribe**\n",
    "        1. **aws-marketplace:Subscribe**  \n",
    "    2. or your AWS account has a subscription to [`ct-scan-body-part-detector`](http://aws.com). If so, skip step: [Subscribe to the model package](#1.-Subscribe-to-the-model-package)\n",
    "\n",
    "#### Contents:\n",
    "1. [Subscribe to the model package](#1.-Subscribe-to-the-model-package)\n",
    "2. [Create an endpoint and perform real-time inference](#2.-Create-an-endpoint-and-perform-real-time-inference)\n",
    "   1. [Create an endpoint](#A.-Create-an-endpoint)\n",
    "   2. [Create input payload](#B.-Create-input-payload)\n",
    "   3. [Perform real-time inference](#C.-Perform-real-time-inference)\n",
    "   4. [Visualize output](#D.-Visualize-output)\n",
    "   5. [Delete the endpoint](#E.-Delete-the-endpoint)\n",
    "3. [Perform batch inference](#3.-Perform-batch-inference) \n",
    "4. [Clean-up](#4.-Clean-up)\n",
    "    1. [Delete the model](#A.-Delete-the-model)\n",
    "    2. [Unsubscribe to the listing (optional)](#B.-Unsubscribe-to-the-listing-(optional))\n",
    "    \n",
    "\n",
    "#### Usage instructions\n",
    "You can run this notebook one cell at a time (By using Shift+Enter for running a cell)."
   ]
  },
  {
   "cell_type": "markdown",
   "metadata": {},
   "source": [
    "### 1. Subscribe to the model package"
   ]
  },
  {
   "cell_type": "markdown",
   "metadata": {},
   "source": [
    "To subscribe to the model package:\n",
    "1. Open the model package listing page <font color='red'> [ct-scan-body-part-detector](https://aws.amazon.com/marketplace/pp/prodview-wfdmcre64w564).</font>\n",
    "1. On the AWS Marketplace listing, click on the **Continue to subscribe** button.\n",
    "1. On the **Subscribe to this software** page, review and click on **\"Accept Offer\"** if you and your organization agrees with EULA, pricing, and support terms. \n",
    "1. Once you click on **Continue to configuration button** and then choose a **region**, you will see a **Product Arn** displayed. This is the model package ARN that you need to specify while creating a deployable model using Boto3. Copy the ARN corresponding to your region and specify the same in the following cell."
   ]
  },
  {
   "cell_type": "code",
   "execution_count": 5,
   "metadata": {},
   "outputs": [],
   "source": [
    "model_package_arn = \"arn:aws:sagemaker:us-xxxx-1:yyyyyyyyyyyy:endpoint/ct-scan-body-part-detector\""
   ]
  },
  {
   "cell_type": "code",
   "execution_count": 9,
   "metadata": {},
   "outputs": [],
   "source": [
    "# download dependent libraries for reading dicom images and tags."
   ]
  },
  {
   "cell_type": "code",
   "execution_count": 6,
   "metadata": {},
   "outputs": [
    {
     "name": "stdout",
     "output_type": "stream",
     "text": [
      "Collecting SimpleITK\n",
      "  Downloading SimpleITK-2.1.1-cp36-cp36m-manylinux_2_12_x86_64.manylinux2010_x86_64.whl (48.4 MB)\n",
      "\u001b[K     |████████████████████████████████| 48.4 MB 11.7 MB/s eta 0:00:01     |███████████████▌                | 23.5 MB 11.7 MB/s eta 0:00:03\n",
      "\u001b[?25hInstalling collected packages: SimpleITK\n",
      "Successfully installed SimpleITK-2.1.1\n",
      "Collecting pydicom\n",
      "  Downloading pydicom-2.2.2-py3-none-any.whl (2.0 MB)\n",
      "\u001b[K     |████████████████████████████████| 2.0 MB 25.7 MB/s eta 0:00:01\n",
      "\u001b[?25hInstalling collected packages: pydicom\n",
      "Successfully installed pydicom-2.2.2\n"
     ]
    }
   ],
   "source": [
    "! pip install SimpleITK\n",
    "! pip install pydicom"
   ]
  },
  {
   "cell_type": "code",
   "execution_count": 7,
   "metadata": {},
   "outputs": [],
   "source": [
    "# create image download, read, write and nifti-to-json serialization methods."
   ]
  },
  {
   "cell_type": "code",
   "execution_count": 8,
   "metadata": {},
   "outputs": [],
   "source": [
    "import os\n",
    "import requests\n",
    "from base64 import b64encode,b64decode\n",
    "import json\n",
    "import zipfile\n",
    "import numpy as np\n",
    "import pydicom\n",
    "import SimpleITK as sitk\n",
    "import matplotlib.pyplot as plt\n",
    "\n",
    "def resample_img(itk_image, out_spacing):\n",
    "    \n",
    "    # Resample images to out_spacing with SimpleITK\n",
    "    original_spacing = itk_image.GetSpacing()\n",
    "    original_size = itk_image.GetSize()\n",
    "\n",
    "    out_size = [\n",
    "        int(np.round(original_size[0] * (original_spacing[0] / out_spacing[0]))),\n",
    "        int(np.round(original_size[1] * (original_spacing[1] / out_spacing[1]))),\n",
    "        int(np.round(original_size[2] * (original_spacing[2] / out_spacing[2])))]\n",
    "\n",
    "    resample = sitk.ResampleImageFilter()\n",
    "    resample.SetOutputSpacing(out_spacing)\n",
    "    resample.SetSize(out_size)\n",
    "    resample.SetOutputDirection(itk_image.GetDirection())\n",
    "    resample.SetOutputOrigin(itk_image.GetOrigin())\n",
    "    resample.SetTransform(sitk.Transform())\n",
    "    resample.SetDefaultPixelValue(itk_image.GetPixelIDValue())\n",
    "    resample.SetInterpolator(sitk.sitkBSpline)\n",
    "\n",
    "    return resample.Execute(itk_image)\n",
    "\n",
    "# custom resample\n",
    "TARGET_XY_SIZE = 128\n",
    "TARGET_Z_SIZE = 100\n",
    "def imread(myinput,downsample=True):\n",
    "    if isinstance(myinput,list):\n",
    "        file_list = myinput\n",
    "        dicom_list = []\n",
    "        for image_file in file_list:\n",
    "            ds=pydicom.dcmread(image_file)\n",
    "            dicom_list.append((ds.InstanceNumber,image_file))\n",
    "            dicom_list = sorted(dicom_list,key=lambda x:x[0])\n",
    "        dicom_names = [x[1] for x in dicom_list]\n",
    "        reader = sitk.ImageSeriesReader()\n",
    "        reader.SetFileNames(dicom_names)\n",
    "    else:\n",
    "        file_path = myinput\n",
    "        reader= sitk.ImageFileReader()\n",
    "        reader.SetFileName(file_path)\n",
    "        \n",
    "    img_obj = reader.Execute()\n",
    "    if downsample:\n",
    "        spacing = list(img_obj.GetSpacing())\n",
    "        size = list(img_obj.GetSize())\n",
    "        \n",
    "        # scale down to 128x128 for dimensions 0 and 1\n",
    "        spacing[0] = spacing[0]*(size[0]/float(TARGET_XY_SIZE))\n",
    "        spacing[1] = spacing[1]*(size[1]/float(TARGET_XY_SIZE))\n",
    "        \n",
    "        # scale to no more than 100 scans (for dimension 2)\n",
    "        if size[2] < TARGET_Z_SIZE:\n",
    "            factor = 1\n",
    "        else:\n",
    "            factor = size[2]/float(TARGET_Z_SIZE)\n",
    "        spacing[2] = spacing[2]*factor\n",
    "        \n",
    "        img_obj = resample_img(img_obj, out_spacing=spacing)\n",
    "        \n",
    "    return img_obj\n",
    "\n",
    "def imwrite(fpath,img_obj,use_compression=True):\n",
    "    print(img_obj.GetSize())\n",
    "    writer = sitk.ImageFileWriter()    \n",
    "    writer.SetFileName(fpath)\n",
    "    writer.SetUseCompression(use_compression)\n",
    "    writer.Execute(img_obj)\n",
    "\n",
    "def download_images(series_instance_uid,image_root=\".\"):\n",
    "    url = f\"https://services.cancerimagingarchive.net/services/v4/TCIA/query/getImage?SeriesInstanceUID={series_instance_uid}\"\n",
    "    zip_file_path = os.path.join(image_root,series_instance_uid+'.zip')\n",
    "    r = requests.get(url, allow_redirects=True)\n",
    "    print(r.status_code)\n",
    "    if r.status_code != 200:\n",
    "        raise LookupError(f\"ohoh {r.status_code}!\")\n",
    "    open(zip_file_path, 'wb').write(r.content)\n",
    "    folder_path = os.path.join(image_root,series_instance_uid)\n",
    "    with zipfile.ZipFile(zip_file_path, 'r') as zip_ref:\n",
    "        zip_ref.extractall(folder_path)\n",
    "    return folder_path\n",
    "\n",
    "def convert_to_nifti(folder_path,series_instance_uid,image_root=None):\n",
    "    file_list = [os.path.join(folder_path,x) for x in os.listdir(folder_path)]\n",
    "    img_obj = imread(file_list)\n",
    "    nii_gz_path = os.path.join(image_root,f'{series_instance_uid}.nii.gz')\n",
    "    imwrite(nii_gz_path,img_obj)\n",
    "    return nii_gz_path\n",
    "\n",
    "ENCODING = 'utf-8'\n",
    "def convert_to_json(input_file):\n",
    "    with open(input_file, 'rb') as open_file:\n",
    "        byte_content = open_file.read()\n",
    "    base64_bytes = b64encode(byte_content)\n",
    "    base64_string = base64_bytes.decode(ENCODING)\n",
    "    myjson = {\"niigz\":base64_string}\n",
    "    return myjson\n",
    "\n",
    "def upload_to_s3(input_file):\n",
    "    s3_prefix = 'ct-sample-images'\n",
    "    rawdata_s3_prefix = '{}'.format(s3_prefix)\n",
    "    s3_uri = sess.upload_data(path=input_file, key_prefix=rawdata_s3_prefix)\n",
    "    return s3_uri\n"
   ]
  },
  {
   "cell_type": "code",
   "execution_count": 9,
   "metadata": {},
   "outputs": [],
   "source": [
    "from sagemaker import ModelPackage\n",
    "import sagemaker as sage\n",
    "from sagemaker import get_execution_role\n",
    "from sagemaker import ModelPackage\n",
    "from urllib.parse import urlparse\n",
    "import numpy as np\n",
    "import boto3"
   ]
  },
  {
   "cell_type": "code",
   "execution_count": 10,
   "metadata": {},
   "outputs": [
    {
     "name": "stdout",
     "output_type": "stream",
     "text": [
      "arn:aws:iam::535328050074:role/MyAmazonSageMaker-ExecutionRole\n",
      "sagemaker-us-east-1-535328050074\n"
     ]
    }
   ],
   "source": [
    "role = get_execution_role()\n",
    "\n",
    "sagemaker_session = sage.Session()\n",
    "\n",
    "bucket = sagemaker_session.default_bucket()\n",
    "runtime = boto3.client(\"runtime.sagemaker\")\n",
    "\n",
    "print(role)\n",
    "print(bucket)"
   ]
  },
  {
   "cell_type": "markdown",
   "metadata": {},
   "source": [
    "### 2. Create an endpoint and perform real-time inference"
   ]
  },
  {
   "cell_type": "markdown",
   "metadata": {},
   "source": [
    "If you want to understand how real-time inference with Amazon SageMaker works, see [Documentation](https://docs.aws.amazon.com/sagemaker/latest/dg/how-it-works-hosting.html)."
   ]
  },
  {
   "cell_type": "code",
   "execution_count": 11,
   "metadata": {},
   "outputs": [],
   "source": [
    "model_name = \"ct-scan-body-part-detector\"\n",
    "\n",
    "content_type = \"application/json\"\n",
    "\n",
    "real_time_inference_instance_type = 'ml.m5.xlarge'\n",
    "batch_transform_inference_instance_type = 'ml.m5.xlarge'"
   ]
  },
  {
   "cell_type": "code",
   "execution_count": 23,
   "metadata": {},
   "outputs": [
    {
     "name": "stdout",
     "output_type": "stream",
     "text": [
      "-------------!"
     ]
    }
   ],
   "source": [
    "# create a deployable model from the model package.\n",
    "model = ModelPackage(\n",
    "    role=role, model_package_arn=model_package_arn, sagemaker_session=sagemaker_session\n",
    ")\n",
    "\n",
    "# Deploy the model\n",
    "predictor = model.deploy(1, real_time_inference_instance_type, endpoint_name=model_name)"
   ]
  },
  {
   "cell_type": "markdown",
   "metadata": {},
   "source": [
    "#### A. Create an endpoint"
   ]
  },
  {
   "cell_type": "markdown",
   "metadata": {},
   "source": [
    "Once endpoint has been created, you would be able to perform real-time inference."
   ]
  },
  {
   "cell_type": "markdown",
   "metadata": {},
   "source": [
    "#### B. Create input payload"
   ]
  },
  {
   "cell_type": "markdown",
   "metadata": {},
   "source": [
    "Download images, serialize as json."
   ]
  },
  {
   "cell_type": "code",
   "execution_count": 27,
   "metadata": {},
   "outputs": [
    {
     "data": {
      "text/plain": [
       "'\\n!mkdir -p /tmp/myimages &&   export series_instance_uid=1.3.6.1.4.1.14519.5.2.1.6279.6001.113679818447732724990336702075 &&   aws s3 cp s3://sawtelle/public/sample-images/${series_instance_uid}.zip /tmp/myimages/images.zip &&   export myfolder=/tmp/myimages/${series_instance_uid} &&   mkdir -p ${myfolder} &&   cd ${myfolder} &&   unzip -qq /tmp/myimages/images.zip &&   echo download done!\\n'"
      ]
     },
     "execution_count": 27,
     "metadata": {},
     "output_type": "execute_result"
    }
   ],
   "source": [
    "'''\n",
    "!mkdir -p /tmp/myimages && \\\n",
    "  export series_instance_uid=1.3.6.1.4.1.14519.5.2.1.6279.6001.113679818447732724990336702075 && \\\n",
    "  aws s3 cp s3://sawtelle/public/sample-images/${series_instance_uid}.zip /tmp/myimages/images.zip && \\\n",
    "  export myfolder=/tmp/myimages/${series_instance_uid} && \\\n",
    "  mkdir -p ${myfolder} && \\\n",
    "  cd ${myfolder} && \\\n",
    "  unzip -qq /tmp/myimages/images.zip && \\\n",
    "  echo download done!\n",
    "'''"
   ]
  },
  {
   "cell_type": "code",
   "execution_count": 28,
   "metadata": {},
   "outputs": [
    {
     "name": "stdout",
     "output_type": "stream",
     "text": [
      "200\n",
      "(128, 128, 100)\n"
     ]
    }
   ],
   "source": [
    "series_instance_uid='1.3.6.1.4.1.14519.5.2.1.6279.6001.113679818447732724990336702075'\n",
    "image_root = \"/tmp/myimages\"\n",
    "os.makedirs(image_root,exist_ok=True)\n",
    "\n",
    "# download images from TCIA (TCIA sometimes is down, thus we opted for above s3 path)\n",
    "tcia = True\n",
    "if tcia:\n",
    "    folder_path = download_images(series_instance_uid,image_root=image_root)\n",
    "    nii_gz_path = convert_to_nifti(folder_path,series_instance_uid,image_root=image_root)\n",
    "else:\n",
    "    folder_path = 'images'\n",
    "    nii_gz_path = convert_to_nifti(folder_path,series_instance_uid,image_root=image_root)\n",
    "mypayload = convert_to_json(nii_gz_path)"
   ]
  },
  {
   "cell_type": "code",
   "execution_count": 30,
   "metadata": {},
   "outputs": [],
   "source": [
    "with open('mypayload.txt','w') as f:\n",
    "    f.write(json.dumps(mypayload))\n",
    "with open('mypayload.txt','r') as f:\n",
    "    mypayloadstr=f.read()"
   ]
  },
  {
   "cell_type": "markdown",
   "metadata": {},
   "source": [
    "nii.gz file is now converted to json format in `mypayload.txt`, with a size of 2.8MB as shown below"
   ]
  },
  {
   "cell_type": "code",
   "execution_count": 31,
   "metadata": {},
   "outputs": [
    {
     "name": "stdout",
     "output_type": "stream",
     "text": [
      "-rw-rw-r-- 1 ec2-user ec2-user 2.8M Oct  2 23:42 mypayload.txt\n"
     ]
    }
   ],
   "source": [
    "!ls mypayload.txt -lh"
   ]
  },
  {
   "cell_type": "markdown",
   "metadata": {},
   "source": [
    "#### C. Perform real-time inference"
   ]
  },
  {
   "cell_type": "code",
   "execution_count": 32,
   "metadata": {},
   "outputs": [
    {
     "name": "stdout",
     "output_type": "stream",
     "text": [
      "us-east-1\n"
     ]
    }
   ],
   "source": [
    "!echo $sagemaker_session.boto_region_name"
   ]
  },
  {
   "cell_type": "markdown",
   "metadata": {},
   "source": [
    "#### perform inference with aws cli:"
   ]
  },
  {
   "cell_type": "code",
   "execution_count": 35,
   "metadata": {},
   "outputs": [
    {
     "name": "stdout",
     "output_type": "stream",
     "text": [
      "ct-scan-body-part-detector mypayload.txt application/json response_output.json\n",
      "{\n",
      "    \"ContentType\": \"application/json\",\n",
      "    \"InvokedProductionVariant\": \"AllTraffic\"\n",
      "}\n"
     ]
    }
   ],
   "source": [
    "!export model_name=ct-scan-body-part-detector \\\n",
    " && export file_name=mypayload.txt \\\n",
    " && export content_type=application/json \\\n",
    " && export output_file_name=response_output.json \\\n",
    " && echo $model_name $file_name $content_type $output_file_name \\\n",
    " && aws sagemaker-runtime invoke-endpoint \\\n",
    "    --endpoint-name \"$model_name\" \\\n",
    "    --body \"fileb://$file_name\" \\\n",
    "    --content-type \"$content_type\" \\\n",
    "    \"$output_file_name\""
   ]
  },
  {
   "cell_type": "code",
   "execution_count": 36,
   "metadata": {},
   "outputs": [
    {
     "name": "stdout",
     "output_type": "stream",
     "text": [
      "{\"body_parts\":{\"abdomen\":{\"height\":57.2,\"unit\":\"mm\"},\"chest\":{\"height\":207.9,\"unit\":\"mm\"},\"head\":{\"height\":0.0,\"unit\":\"mm\"},\"lower_limb\":{\"height\":0.0,\"unit\":\"mm\"},\"neck\":{\"height\":36.2,\"unit\":\"mm\"},\"pelvis\":{\"height\":0.0,\"unit\":\"mm\"}},\"cap_completeness\":{\"abdomen\":false,\"chest\":true,\"pelvis\":false},\"head_first\":true}\n"
     ]
    }
   ],
   "source": [
    "!cat response_output.json"
   ]
  },
  {
   "cell_type": "markdown",
   "metadata": {},
   "source": [
    "#### alternatively, perform inference with boto3:"
   ]
  },
  {
   "cell_type": "code",
   "execution_count": 37,
   "metadata": {},
   "outputs": [
    {
     "name": "stdout",
     "output_type": "stream",
     "text": [
      "{'ResponseMetadata': {'RequestId': '03025b9e-dbf4-477d-a821-a8e1c9c97ec0', 'HTTPStatusCode': 200, 'HTTPHeaders': {'x-amzn-requestid': '03025b9e-dbf4-477d-a821-a8e1c9c97ec0', 'x-amzn-invoked-production-variant': 'AllTraffic', 'date': 'Sat, 02 Oct 2021 23:44:36 GMT', 'content-type': 'application/json', 'content-length': '320'}, 'RetryAttempts': 0}, 'ContentType': 'application/json', 'InvokedProductionVariant': 'AllTraffic', 'Body': <botocore.response.StreamingBody object at 0x7f0c45aa1390>}\n"
     ]
    }
   ],
   "source": [
    "client = boto3.client('sagemaker-runtime')\n",
    "\n",
    "endpoint_name = \"ct-scan-body-part-detector\"\n",
    "content_type = \"application/json\"\n",
    "accept = \"application/json\"\n",
    "payload = mypayloadstr # Payload for inference.\n",
    "\n",
    "response = client.invoke_endpoint(\n",
    "    EndpointName=endpoint_name, \n",
    "    ContentType=content_type,\n",
    "    Accept=accept,\n",
    "    Body=payload\n",
    "    )\n",
    "\n",
    "print(response)\n",
    "result = json.loads(response['Body'].read().decode())\n"
   ]
  },
  {
   "cell_type": "code",
   "execution_count": 38,
   "metadata": {},
   "outputs": [
    {
     "name": "stdout",
     "output_type": "stream",
     "text": [
      "{'body_parts': {'abdomen': {'height': 57.2, 'unit': 'mm'}, 'chest': {'height': 207.9, 'unit': 'mm'}, 'head': {'height': 0.0, 'unit': 'mm'}, 'lower_limb': {'height': 0.0, 'unit': 'mm'}, 'neck': {'height': 36.2, 'unit': 'mm'}, 'pelvis': {'height': 0.0, 'unit': 'mm'}}, 'cap_completeness': {'abdomen': False, 'chest': True, 'pelvis': False}, 'head_first': True}\n"
     ]
    }
   ],
   "source": [
    "print(result)"
   ]
  },
  {
   "cell_type": "code",
   "execution_count": 42,
   "metadata": {},
   "outputs": [
    {
     "name": "stdout",
     "output_type": "stream",
     "text": [
      "{'ResponseMetadata': {'RequestId': 'bd97851a-737e-4230-b1ef-0c9aa0f82ee9', 'HTTPStatusCode': 200, 'HTTPHeaders': {'x-amzn-requestid': 'bd97851a-737e-4230-b1ef-0c9aa0f82ee9', 'x-amzn-invoked-production-variant': 'AllTraffic', 'date': 'Sat, 02 Oct 2021 23:46:40 GMT', 'content-type': 'application/json', 'content-length': '320'}, 'RetryAttempts': 0}, 'ContentType': 'application/json', 'InvokedProductionVariant': 'AllTraffic', 'Body': <botocore.response.StreamingBody object at 0x7f0c472c13c8>}\n",
      "{'body_parts': {'abdomen': {'height': 57.2, 'unit': 'mm'}, 'chest': {'height': 207.9, 'unit': 'mm'}, 'head': {'height': 0.0, 'unit': 'mm'}, 'lower_limb': {'height': 0.0, 'unit': 'mm'}, 'neck': {'height': 36.2, 'unit': 'mm'}, 'pelvis': {'height': 0.0, 'unit': 'mm'}}, 'cap_completeness': {'abdomen': False, 'chest': True, 'pelvis': False}, 'head_first': True}\n"
     ]
    }
   ],
   "source": [
    "client = boto3.client('sagemaker-runtime')\n",
    "\n",
    "endpoint_name = \"ct-scan-body-part-detector\"\n",
    "content_type = \"application/niigz\"\n",
    "accept = \"application/json\"\n",
    "payload = mypayloadstr # Payload for inference.\n",
    "\n",
    "with open(nii_gz_path,'rb') as f:\n",
    "\n",
    "    payloadb=f.read()\n",
    "\n",
    "    response = client.invoke_endpoint(\n",
    "        EndpointName=endpoint_name, \n",
    "        ContentType=content_type,\n",
    "        Accept=accept,\n",
    "        Body=payloadb\n",
    "        )\n",
    "\n",
    "    print(response)\n",
    "    result = json.loads(response['Body'].read().decode())\n",
    "    print(result)"
   ]
  },
  {
   "cell_type": "markdown",
   "metadata": {},
   "source": [
    "#### D. Visualize output"
   ]
  },
  {
   "cell_type": "markdown",
   "metadata": {},
   "source": [
    "We print out the model output `results` and show a coronal slice of the input 3d image.\n",
    "confirming the below findings from the model:\n",
    "   + presence of neck(shoulder), chest and abdomen\n",
    "   + chest body part is complete (presence of shoulder and abdomen)\n",
    "   + scan is imaged head-first (as oppposed to feet first)"
   ]
  },
  {
   "cell_type": "code",
   "execution_count": 43,
   "metadata": {},
   "outputs": [
    {
     "name": "stdout",
     "output_type": "stream",
     "text": [
      "spacing: (0.609375, 0.609375, 1.25), size: (512, 512, 241)\n"
     ]
    },
    {
     "data": {
      "text/plain": [
       "<matplotlib.image.AxesImage at 0x7f0c472f4550>"
      ]
     },
     "execution_count": 43,
     "metadata": {},
     "output_type": "execute_result"
    },
    {
     "data": {
      "image/png": "[encoded data removed]",
      "text/plain": [
       "<Figure size 432x288 with 1 Axes>"
      ]
     },
     "metadata": {
      "needs_background": "light"
     },
     "output_type": "display_data"
    }
   ],
   "source": [
    "series_instance_uid='1.3.6.1.4.1.14519.5.2.1.6279.6001.113679818447732724990336702075'\n",
    "folder_path = os.path.join(image_root,series_instance_uid)\n",
    "file_list = [os.path.join(folder_path,x) for x in os.listdir(folder_path)]\n",
    "img_obj = imread(file_list,downsample=False)\n",
    "\n",
    "arr = sitk.GetArrayFromImage(img_obj)\n",
    "spacing = img_obj.GetSpacing()\n",
    "size = img_obj.GetSize()\n",
    "print(f'spacing: {spacing}, size: {size}')\n",
    "plt.imshow(arr[:,256,:].squeeze(),cmap='gray',aspect=spacing[2]/spacing[0],vmin=-1000,vmax=1000)"
   ]
  },
  {
   "cell_type": "code",
   "execution_count": 44,
   "metadata": {},
   "outputs": [
    {
     "name": "stdout",
     "output_type": "stream",
     "text": [
      "{'body_parts': {'abdomen': {'height': 57.2, 'unit': 'mm'}, 'chest': {'height': 207.9, 'unit': 'mm'}, 'head': {'height': 0.0, 'unit': 'mm'}, 'lower_limb': {'height': 0.0, 'unit': 'mm'}, 'neck': {'height': 36.2, 'unit': 'mm'}, 'pelvis': {'height': 0.0, 'unit': 'mm'}}, 'cap_completeness': {'abdomen': False, 'chest': True, 'pelvis': False}, 'head_first': True}\n"
     ]
    }
   ],
   "source": [
    "print(result)"
   ]
  },
  {
   "cell_type": "markdown",
   "metadata": {},
   "source": [
    "#### E. Delete the endpoint"
   ]
  },
  {
   "cell_type": "markdown",
   "metadata": {},
   "source": [
    "Now that you have successfully performed a real-time inference, you do not need the endpoint any more. You can terminate the endpoint to avoid being charged."
   ]
  },
  {
   "cell_type": "code",
   "execution_count": 45,
   "metadata": {},
   "outputs": [],
   "source": [
    "model.sagemaker_session.delete_endpoint(model_name)\n",
    "model.sagemaker_session.delete_endpoint_config(model_name)"
   ]
  },
  {
   "cell_type": "markdown",
   "metadata": {},
   "source": [
    "### 3. Prepare for batch inference"
   ]
  },
  {
   "cell_type": "code",
   "execution_count": 46,
   "metadata": {},
   "outputs": [],
   "source": [
    "# unseen dataset from tcia \n",
    "# collection id # anatomical-site # series-isntance-uid\n",
    "# OPC-Radiomics, # head-and-neck # '1.3.6.1.4.1.14519.5.2.1.8666.3098.135047974513108102532692126459'\n",
    "# CPTAC-SAR # whole-body # '1.3.6.1.4.1.14519.5.2.1.3320.3273.193828570195012288011029757668'\n",
    "# COVID-19-NY-SBU # abdomen-pelvis # '1.3.6.1.4.1.14519.5.2.1.99.1071.20813077754558159326970236991440'\n",
    "\n",
    "series_instance_uid_list = [\n",
    "    \"1.3.6.1.4.1.14519.5.2.1.8666.3098.135047974513108102532692126459\",\n",
    "    \"1.3.6.1.4.1.14519.5.2.1.3320.3273.193828570195012288011029757668\",\n",
    "    \"1.3.6.1.4.1.14519.5.2.1.99.1071.20813077754558159326970236991440\",\n",
    "]"
   ]
  },
  {
   "cell_type": "code",
   "execution_count": 47,
   "metadata": {},
   "outputs": [
    {
     "name": "stdout",
     "output_type": "stream",
     "text": [
      "200\n",
      "(128, 128, 100)\n",
      "200\n",
      "(128, 128, 100)\n",
      "200\n",
      "(128, 128, 100)\n"
     ]
    }
   ],
   "source": [
    "niigz_list = []\n",
    "image_root = \"/tmp/myimages\"\n",
    "os.makedirs(image_root,exist_ok=True)\n",
    "for suid in series_instance_uid_list:\n",
    "    nii_gz_path = os.path.join(image_root,f'{suid}.nii.gz')\n",
    "    folder_path = os.path.join(image_root,suid)\n",
    "    if not os.path.exists(folder_path):\n",
    "        folder_path = download_images(suid,image_root=image_root)        \n",
    "    if not os.path.exists(nii_gz_path):\n",
    "        nii_gz_path = convert_to_nifti(folder_path,suid,image_root=image_root)\n",
    "    myjson = convert_to_json(nii_gz_path)\n",
    "    niigz_list.append(myjson)\n",
    "    \n",
    "batch_file = 'niigz-jsonlines.txt'\n",
    "with open(batch_file,'w') as f:\n",
    "    for x in niigz_list:\n",
    "        f.write(json.dumps(x)+'\\n')"
   ]
  },
  {
   "cell_type": "code",
   "execution_count": 48,
   "metadata": {},
   "outputs": [
    {
     "name": "stdout",
     "output_type": "stream",
     "text": [
      "-rw-rw-r-- 1 ec2-user ec2-user 6.5M Oct  2 23:50 niigz-jsonlines.txt\n"
     ]
    }
   ],
   "source": [
    "!ls -lh niigz-jsonlines.txt"
   ]
  },
  {
   "cell_type": "markdown",
   "metadata": {},
   "source": [
    "### 3. Perform batch inference"
   ]
  },
  {
   "cell_type": "markdown",
   "metadata": {},
   "source": [
    "In this section, you will perform batch inference using multiple input payloads together. If you are not familiar with batch transform, and want to learn more, see these links:\n",
    "1. [How it works](https://docs.aws.amazon.com/sagemaker/latest/dg/ex1-batch-transform.html)\n",
    "2. [How to run a batch transform job](https://docs.aws.amazon.com/sagemaker/latest/dg/how-it-works-batch.html)"
   ]
  },
  {
   "cell_type": "code",
   "execution_count": 50,
   "metadata": {},
   "outputs": [
    {
     "name": "stdout",
     "output_type": "stream",
     "text": [
      "Transform input uploaded to s3://sagemaker-us-east-1-535328050074/ct-scan-body-part-detector/niigz-jsonlines.txt\n"
     ]
    }
   ],
   "source": [
    "# upload the batch-transform job input files to S3\n",
    "transform_input_file = batch_file\n",
    "transform_input = sagemaker_session.upload_data(transform_input_file, key_prefix=model_name)\n",
    "print(\"Transform input uploaded to \" + transform_input)"
   ]
  },
  {
   "cell_type": "code",
   "execution_count": 51,
   "metadata": {},
   "outputs": [],
   "source": [
    "transform_output_folder = \"batch-transform-output\"\n",
    "output_path=\"s3://{}/{}\".format(bucket, transform_output_folder)"
   ]
  },
  {
   "cell_type": "code",
   "execution_count": 53,
   "metadata": {},
   "outputs": [],
   "source": [
    "# Run the batch-transform job\n",
    "transformer = model.transformer(\n",
    "    1,batch_transform_inference_instance_type,\n",
    "    output_path=output_path,\n",
    "    assemble_with='Line',\n",
    "    accept='application/jsonlines',\n",
    ")\n",
    "transformer.transform(transform_input, content_type='application/jsonlines', split_type='Line',logs=False)\n",
    "out = transformer.wait()"
   ]
  },
  {
   "cell_type": "code",
   "execution_count": 33,
   "metadata": {},
   "outputs": [],
   "source": [
    "# output is available on following path\n",
    "# transformer.output_path"
   ]
  },
  {
   "cell_type": "code",
   "execution_count": 54,
   "metadata": {},
   "outputs": [
    {
     "name": "stdout",
     "output_type": "stream",
     "text": [
      "batch-transform-output/niigz-jsonlines.txt.out\n",
      "Transform results: \n",
      "{\"body_parts\": {\"abdomen\": {\"height\": 0.0, \"unit\": \"mm\"}, \"chest\": {\"height\": 63.1, \"unit\": \"mm\"}, \"head\": {\"height\": 159.4, \"unit\": \"mm\"}, \"lower_limb\": {\"height\": 0.0, \"unit\": \"mm\"}, \"neck\": {\"height\": 109.6, \"unit\": \"mm\"}, \"pelvis\": {\"height\": 0.0, \"unit\": \"mm\"}}, \"cap_completeness\": {\"abdomen\": false, \"chest\": false, \"pelvis\": false}, \"head_first\": true}\n",
      "{\"body_parts\": {\"abdomen\": {\"height\": 370.5, \"unit\": \"mm\"}, \"chest\": {\"height\": 156.0, \"unit\": \"mm\"}, \"head\": {\"height\": 156.0, \"unit\": \"mm\"}, \"lower_limb\": {\"height\": 1033.5, \"unit\": \"mm\"}, \"neck\": {\"height\": 97.5, \"unit\": \"mm\"}, \"pelvis\": {\"height\": 136.5, \"unit\": \"mm\"}}, \"cap_completeness\": {\"abdomen\": true, \"chest\": true, \"pelvis\": true}, \"head_first\": true}\n",
      "{\"body_parts\": {\"abdomen\": {\"height\": 170.3, \"unit\": \"mm\"}, \"chest\": {\"height\": 95.2, \"unit\": \"mm\"}, \"head\": {\"height\": 0.0, \"unit\": \"mm\"}, \"lower_limb\": {\"height\": 0.0, \"unit\": \"mm\"}, \"neck\": {\"height\": 0.0, \"unit\": \"mm\"}, \"pelvis\": {\"height\": 235.5, \"unit\": \"mm\"}}, \"cap_completeness\": {\"abdomen\": true, \"chest\": false, \"pelvis\": false}, \"head_first\": true}\n",
      "\n",
      "local path: niigz-jsonlines.txt.out\n"
     ]
    }
   ],
   "source": [
    "s3_client = sagemaker_session.boto_session.client('s3')\n",
    "local_path = f'{batch_file}.out'\n",
    "store_path = f\"{transform_output_folder}/niigz-jsonlines.txt.out\"\n",
    "print(store_path)\n",
    "s3_client.download_file(bucket, store_path, local_path)\n",
    "with open(local_path) as f:\n",
    "    results = f.readlines()   \n",
    "print(\"Transform results: \\n{}\".format(''.join(results)))\n",
    "print(f'local path: {local_path}')"
   ]
  },
  {
   "cell_type": "code",
   "execution_count": 55,
   "metadata": {},
   "outputs": [
    {
     "name": "stdout",
     "output_type": "stream",
     "text": [
      "2.0480010485765368 (512, 166, 3) 512 339.9681740637051\n",
      "2.048 (512, 975, 3) 512 1996.8\n",
      "3.836317135549872 (512, 167, 3) 512 640.6649616368286\n"
     ]
    }
   ],
   "source": [
    "content_dict = {}\n",
    "for n,series_instance_uid in enumerate(series_instance_uid_list):\n",
    "    png_file = f'{series_instance_uid}.png'\n",
    "    \n",
    "    folder_path = os.path.join(image_root,series_instance_uid)\n",
    "    file_list = [os.path.join(folder_path,x) for x in os.listdir(folder_path)]\n",
    "    img_obj = imread(file_list,downsample=False)\n",
    "\n",
    "    arr = sitk.GetArrayFromImage(img_obj)\n",
    "    spacing = img_obj.GetSpacing()\n",
    "    size = img_obj.GetSize()\n",
    "    \n",
    "    coronal_slice = arr[:,256,:].squeeze().T.copy()\n",
    "    coronal_slice = np.expand_dims(coronal_slice,axis=-1)\n",
    "    coronal_slice = np.repeat(coronal_slice,3,axis=2)\n",
    "    coronal_slice = ((coronal_slice+1000)/(2000)).clip(0,1)\n",
    "    del img_obj, arr\n",
    "    plt.imsave(png_file, coronal_slice)\n",
    "    aspect = spacing[2]/spacing[0]\n",
    "    h=coronal_slice.shape[0]\n",
    "    w=coronal_slice.shape[1]*aspect\n",
    "    print(aspect,coronal_slice.shape,h,w)\n",
    "    content_dict[series_instance_uid]=dict(\n",
    "        png_file=png_file,\n",
    "        inference=results[n],\n",
    "        h=h,\n",
    "        w=w,\n",
    "    )\n",
    "    "
   ]
  },
  {
   "cell_type": "code",
   "execution_count": 56,
   "metadata": {},
   "outputs": [
    {
     "data": {
      "text/html": [
       "\n",
       "        <header></header>\n",
       "            <body><table>\n",
       "                <tr><th>coronal image</th><th style=\"width:40%;\">inference results</th></tr><tr>\n",
       "            <td><img src=\"./1.3.6.1.4.1.14519.5.2.1.8666.3098.135047974513108102532692126459.png\" style=\"height:128.0px; width: 84.99204351592627px;\"></td>\n",
       "            <td>{\"body_parts\": {\"abdomen\": {\"height\": 0.0, \"unit\": \"mm\"}, \"chest\": {\"height\": 63.1, \"unit\": \"mm\"}, \"head\": {\"height\": 159.4, \"unit\": \"mm\"}, \"lower_limb\": {\"height\": 0.0, \"unit\": \"mm\"}, \"neck\": {\"height\": 109.6, \"unit\": \"mm\"}, \"pelvis\": {\"height\": 0.0, \"unit\": \"mm\"}}, \"cap_completeness\": {\"abdomen\": false, \"chest\": false, \"pelvis\": false}, \"head_first\": true}\n",
       "</td></tr><tr>\n",
       "            <td><img src=\"./1.3.6.1.4.1.14519.5.2.1.3320.3273.193828570195012288011029757668.png\" style=\"height:128.0px; width: 499.2px;\"></td>\n",
       "            <td>{\"body_parts\": {\"abdomen\": {\"height\": 370.5, \"unit\": \"mm\"}, \"chest\": {\"height\": 156.0, \"unit\": \"mm\"}, \"head\": {\"height\": 156.0, \"unit\": \"mm\"}, \"lower_limb\": {\"height\": 1033.5, \"unit\": \"mm\"}, \"neck\": {\"height\": 97.5, \"unit\": \"mm\"}, \"pelvis\": {\"height\": 136.5, \"unit\": \"mm\"}}, \"cap_completeness\": {\"abdomen\": true, \"chest\": true, \"pelvis\": true}, \"head_first\": true}\n",
       "</td></tr><tr>\n",
       "            <td><img src=\"./1.3.6.1.4.1.14519.5.2.1.99.1071.20813077754558159326970236991440.png\" style=\"height:128.0px; width: 160.16624040920715px;\"></td>\n",
       "            <td>{\"body_parts\": {\"abdomen\": {\"height\": 170.3, \"unit\": \"mm\"}, \"chest\": {\"height\": 95.2, \"unit\": \"mm\"}, \"head\": {\"height\": 0.0, \"unit\": \"mm\"}, \"lower_limb\": {\"height\": 0.0, \"unit\": \"mm\"}, \"neck\": {\"height\": 0.0, \"unit\": \"mm\"}, \"pelvis\": {\"height\": 235.5, \"unit\": \"mm\"}}, \"cap_completeness\": {\"abdomen\": true, \"chest\": false, \"pelvis\": false}, \"head_first\": true}\n",
       "</td></tr></table></body>"
      ],
      "text/plain": [
       "<IPython.core.display.HTML object>"
      ]
     },
     "execution_count": 56,
     "metadata": {},
     "output_type": "execute_result"
    }
   ],
   "source": [
    "with open('batch_summary.html','w') as f:\n",
    "    f.write('''\n",
    "        <header></header>\n",
    "            <body><table>\n",
    "                <tr><th>coronal image</th><th style=\"width:40%;\">inference results</th></tr>'''\n",
    "    )\n",
    "    for k,v in content_dict.items():\n",
    "        f.write(f'''<tr>\n",
    "            <td><img src=\"./{v['png_file']}\" style=\"height:{v['h']/4}px; width: {v['w']/4}px;\"></td>\n",
    "            <td>{v['inference']}</td></tr>'''\n",
    "       )\n",
    "    f.write('</table></body>')\n",
    "\n",
    "from IPython.display import HTML\n",
    "HTML(filename=\"batch_summary.html\")"
   ]
  },
  {
   "cell_type": "markdown",
   "metadata": {},
   "source": [
    "### 4. Clean-up"
   ]
  },
  {
   "cell_type": "markdown",
   "metadata": {},
   "source": [
    "#### A. Delete the model"
   ]
  },
  {
   "cell_type": "code",
   "execution_count": 57,
   "metadata": {},
   "outputs": [],
   "source": [
    "model.delete_model()"
   ]
  },
  {
   "cell_type": "markdown",
   "metadata": {},
   "source": [
    "#### B. Unsubscribe to the listing (optional)"
   ]
  },
  {
   "cell_type": "markdown",
   "metadata": {},
   "source": [
    "If you would like to unsubscribe to the model package, follow these steps. Before you cancel the subscription, ensure that you do not have any [deployable model](https://console.aws.amazon.com/sagemaker/home#/models) created from the model package or using the algorithm. Note - You can find this information by looking at the container name associated with the model. \n",
    "\n",
    "**Steps to unsubscribe to product from AWS Marketplace**:\n",
    "1. Navigate to __Machine Learning__ tab on [__Your Software subscriptions page__](https://aws.amazon.com/marketplace/ai/library?productType=ml&ref_=mlmp_gitdemo_indust)\n",
    "2. Locate the listing that you want to cancel the subscription for, and then choose __Cancel Subscription__  to cancel the subscription.\n",
    "\n"
   ]
  }
 ],
 "metadata": {
  "instance_type": "ml.t3.medium",
  "kernelspec": {
   "display_name": "conda_amazonei_tensorflow2_p36",
   "language": "python",
   "name": "conda_amazonei_tensorflow2_p36"
  },
  "language_info": {
   "codemirror_mode": {
    "name": "ipython",
    "version": 3
   },
   "file_extension": ".py",
   "mimetype": "text/x-python",
   "name": "python",
   "nbconvert_exporter": "python",
   "pygments_lexer": "ipython3",
   "version": "3.6.13"
  }
 },
 "nbformat": 4,
 "nbformat_minor": 4
}
